{
 "cells": [
  {
   "cell_type": "code",
   "execution_count": 1,
   "id": "f6c0ca69-e3a7-42df-88a8-e2974fa69953",
   "metadata": {},
   "outputs": [],
   "source": [
    "# Import necessary libraries\n",
    "import matplotlib.pyplot as plt\n",
    "import numpy as np\n",
    "import cv2 as cv\n",
    "import io\n",
    "from PIL import Image\n",
    "import glob\n",
    "import os\n",
    "import pandas as pd\n",
    "import matplotlib\n",
    "matplotlib.style.use('dark_background')\n",
    "import re\n",
    "import seaborn as sns\n",
    "import sys\n",
    "sys.path.append('E:/')\n",
    "from function import *\n",
    "import h5py\n",
    "\n"
   ]
  },
  {
   "cell_type": "code",
   "execution_count": 2,
   "id": "b4d5c5ab-8086-4c66-9355-392089e20383",
   "metadata": {},
   "outputs": [
    {
     "name": "stdout",
     "output_type": "stream",
     "text": [
      "Dimensions of the image: Width = 5120, Height = 2700\n",
      "['sequence_20240305_063615511_DJI_0253_fish2.npz', 'sequence_20240305_063615511_DJI_0253_fish1.npz', 'sequence_20240305_063615511_DJI_0253_fish0.npz']\n"
     ]
    }
   ],
   "source": [
    "pc = 'PC'\n",
    "if pc == 'PC':\n",
    "    basevol = 'E:/sophia'\n",
    "else:\n",
    "    basevol = '/Volumes/SSD_various/'\n",
    "    \n",
    "basepath = basevol + '/shark_data/'\n",
    "output_video_folder = basepath + \"track_example_videos/\"\n",
    "npz_directory = basepath + 'data/' ##### Change with your path \n",
    "figures_path = basepath + \"figures/\"\n",
    "\n",
    "files_list = np.sort(glob.glob(npz_directory + \"*0253*\"))\n",
    "filename_with_extension = os.path.basename(files_list[0])\n",
    "filename = os.path.splitext(filename_with_extension)[0]\n",
    "base_filename = filename.rsplit('_', 1)[0]\n",
    "\n",
    "video_filename = basepath + base_filename + \".MP4\"\n",
    "settings_file_path = basepath + base_filename + \".settings\"\n",
    "### Get settings info\n",
    "# cm_per_pixel = get_trex_settings_value(settings_file_path,'cm_per_pixel')\n",
    "\n",
    "# Get original file size info\n",
    "image_path = basepath + 'average_' + base_filename + \".png\"\n",
    "\n",
    "image = cv.imread(image_path)\n",
    "height, width = image.shape[:2]\n",
    "print(f\"Dimensions of the image: Width = {width}, Height = {height}\")\n",
    "\n",
    "moving_average_window = 12\n",
    "fs = 50\n",
    "cm_per_pixel = 1\n",
    "keys_to_extract = [\"frame_segments\",\"SPEED#wcentroid\", \"ANGLE\",\"frame\",\"time\",\"poseX0\",'poseY0',\"poseX1\",'poseY1',\"poseX2\",'poseY2',\"poseX3\",'poseY3',\"poseX4\",'poseY4',\"poseX5\",'poseY5',\"poseX6\",'poseY6',\"poseX7\",'poseY7',\"poseX8\",'poseY8']  # Add the specific keys you want to extract from npz file\n",
    "\n",
    "# cm_per_pixel  = 0.00390\n",
    "# video_height_cm = height*cm_per_pixel\n",
    "\n",
    "\n",
    "\n",
    "### Get all filedata names\n",
    "fish_data = read_files(npz_directory,'npz',include_posture= True,prefix_filter = base_filename)\n",
    "\n",
    "npz_files = [file for files in fish_data.values() for file in files]\n",
    "print(npz_files)\n",
    "# 20240303_072831125_DJI_0266\n",
    "### Defined what is schooling data and what is shark data\n",
    "fschool_files = [f for f in npz_files if 'fschool_posture' in f]\n",
    "shark_files = [f for f in npz_files if 'fschool' not in f]\n",
    "\n",
    "full_paths_sharks = [os.path.join(npz_directory, file) for file in shark_files]\n",
    "full_paths_schools = [os.path.join(npz_directory, file) for file in fschool_files]"
   ]
  },
  {
   "cell_type": "code",
   "execution_count": 12,
   "id": "e446c55b-4915-4d32-b8d8-f9e0f233b422",
   "metadata": {},
   "outputs": [],
   "source": [
    "# ### Load outline data\n",
    "# data, screen, input_shape, output_shape = load_and_preprocess_outline_data(full_paths_schools,fs = fs)\n"
   ]
  },
  {
   "cell_type": "code",
   "execution_count": 13,
   "id": "033cf2a4-63fe-40d7-9fd5-87e4864c5f50",
   "metadata": {},
   "outputs": [],
   "source": [
    "# ### Load shark data\n",
    "# sharks_df= read_npz_files(npz_directory,shark_files,keys_to_extract, cm_per_pixel,moving_average_window,smooth=True)"
   ]
  },
  {
   "cell_type": "code",
   "execution_count": null,
   "id": "d974b84a-3330-4e85-9b05-61d7d9df684c",
   "metadata": {},
   "outputs": [],
   "source": []
  },
  {
   "cell_type": "code",
   "execution_count": null,
   "id": "3cf2160b-4645-4c54-94c1-e5385fad9fa8",
   "metadata": {},
   "outputs": [],
   "source": []
  },
  {
   "cell_type": "code",
   "execution_count": null,
   "id": "a9b151cd-d410-4aba-82b6-bd155b199842",
   "metadata": {},
   "outputs": [],
   "source": []
  },
  {
   "cell_type": "code",
   "execution_count": 3,
   "id": "dcc5b0f9-a007-4e4e-8a3c-71cdc8c01991",
   "metadata": {},
   "outputs": [
    {
     "name": "stdout",
     "output_type": "stream",
     "text": [
      "Dimensions of the image: Width = 5120, Height = 2700\n",
      "Processing shark files for sequence_20240305_063615511_DJI_0253: ['E:/sophia/shark_data/data/sequence_20240305_063615511_DJI_0253_fish2.npz', 'E:/sophia/shark_data/data/sequence_20240305_063615511_DJI_0253_fish1.npz', 'E:/sophia/shark_data/data/sequence_20240305_063615511_DJI_0253_fish0.npz']\n",
      "Processing school files for sequence_20240305_063615511_DJI_0253: []\n",
      "Processing file: sequence_20240305_063615511_DJI_0253_fish0.npz\n",
      "Processing file: sequence_20240305_063615511_DJI_0253_fish1.npz\n",
      "Processing file: sequence_20240305_063615511_DJI_0253_fish2.npz\n",
      "Shark data saved to E:/sophia/shark_data/processed_data/sequence_20240305_063615511_DJI_0253_sharks.h5\n"
     ]
    }
   ],
   "source": [
    "# Main processing loop for multiple files\n",
    "pc = 'PC'\n",
    "if pc == 'PC':\n",
    "    basevol = 'E:/sophia'\n",
    "else:\n",
    "    basevol = '/Volumes/SSD_various/'\n",
    "    \n",
    "basepath = basevol + '/shark_data/'\n",
    "output_folder = basepath + \"processed_data/\"\n",
    "npz_directory = basepath + 'data/'\n",
    "figures_path = basepath + \"figures/\"\n",
    "output_folder = basepath + \"processed_data/\"\n",
    "npz_directory = basepath + 'data/'\n",
    "figures_path = basepath + \"figures/\"\n",
    "\n",
    "# List of trials to process\n",
    "# file_filters = [\"*0262*\", \"*0257*\"]\n",
    "file_filters = [\"*DJI_0253*\"]\n",
    "\n",
    "for file_filter in file_filters:\n",
    "    files_list = np.sort(glob.glob(npz_directory + file_filter))\n",
    "    \n",
    "    # Check if files_list is empty\n",
    "    if not len(files_list):  # or simply: if not files_list\n",
    "        print(f\"No files found for {file_filter}\")\n",
    "        continue\n",
    "\n",
    "    filename_with_extension = os.path.basename(files_list[0])\n",
    "    filename = os.path.splitext(filename_with_extension)[0]\n",
    "    base_filename = filename.rsplit('_', 1)[0]\n",
    "\n",
    "    video_filename = basepath + base_filename + \".MP4\"\n",
    "    settings_file_path = basepath + base_filename + \".settings\"\n",
    "    image_path = basepath + 'average_' + base_filename + \".png\"\n",
    "\n",
    "    image = cv.imread(image_path)\n",
    "    height, width = image.shape[:2]\n",
    "    print(f\"Dimensions of the image: Width = {width}, Height = {height}\")\n",
    "\n",
    "    moving_average_window = 12\n",
    "\n",
    "    fs = 50\n",
    "    cm_per_pixel = 1\n",
    "\n",
    "    keys_to_extract = [\"frame_segments\",\"SPEED#wcentroid\", \"X#pcentroid\", \"Y#pcentroid\", \"ANGLE\",\"frame\",\"time\",\"poseX0\",'poseY0',\"poseX1\",'poseY1',\"poseX2\",'poseY2',\"poseX3\",'poseY3',\"poseX4\",'poseY4',\"poseX5\",'poseY5',\"poseX6\",'poseY6',\"poseX7\",'poseY7',\"poseX8\",'poseY8']\n",
    "\n",
    "    fish_data = read_files(npz_directory,'npz',include_posture=True, prefix_filter=base_filename)\n",
    "    npz_files = [file for files in fish_data.values() for file in files]\n",
    "\n",
    "    fschool_files = [f for f in npz_files if 'fschool_posture' in f]\n",
    "    shark_files = [f for f in npz_files if 'fschool' not in f]\n",
    "\n",
    "    full_paths_sharks = [os.path.join(npz_directory, file) for file in shark_files]\n",
    "    full_paths_schools = [os.path.join(npz_directory, file) for file in fschool_files]\n",
    "\n",
    "    print(f\"Processing shark files for {base_filename}: {full_paths_sharks}\")\n",
    "    print(f\"Processing school files for {base_filename}: {full_paths_schools}\")\n",
    "\n",
    "    # Process and save shark files\n",
    "    if full_paths_sharks:\n",
    "        sharks_df = read_npz_files(npz_directory, shark_files, base_filename, keys_to_extract, cm_per_pixel, moving_average_window, smooth=True)\n",
    "        ### Add midpoint\n",
    "        sharks_df['midpoint_x'] = (sharks_df['lxfinx'] + sharks_df['rxfinx']) / 2\n",
    "        sharks_df['midpoint_y'] = (sharks_df['lxfiny'] + sharks_df['rxfiny']) / 2\n",
    "        \n",
    "        # Save sharks_df to HDF5\n",
    "        sharks_output_file = os.path.join(output_folder, f\"{base_filename}_sharks.h5\")\n",
    "        sharks_df.to_hdf(sharks_output_file, key='sharks', mode='w')\n",
    "        print(f\"Shark data saved to {sharks_output_file}\")\n",
    "\n",
    "    \n",
    "    ### Comment this if you don't want school outline data\n",
    "    \n",
    "    # Process and save school files\n",
    "    if full_paths_schools:\n",
    "        school_data, school_screen, school_input_shape, school_output_shape = load_and_preprocess_outline_data(full_paths_schools)\n",
    "        school_output_file = os.path.join(output_folder, f\"{base_filename}_school.h5\")\n",
    "        # save_school_data_to_h5(school_data, school_screen, school_input_shape, school_output_shape, school_output_file)\n",
    "        np.savez(output_folder + base_filename + '_school_data.npz', school_data=school_data, school_screen=school_screen, school_output_shape=school_output_shape)\n",
    "        print(f\"Outline data saved to {output_folder+ base_filename + '_school_data.npz'}\")"
   ]
  },
  {
   "cell_type": "code",
   "execution_count": 8,
   "id": "81ef2414-8ba5-41e1-a162-7a1d406a6eb8",
   "metadata": {},
   "outputs": [],
   "source": [
    "# data = np.load(npz_directory + shark_files[0])"
   ]
  },
  {
   "cell_type": "code",
   "execution_count": 9,
   "id": "23a33a6f-125a-48bc-a598-52ecfa4cb359",
   "metadata": {},
   "outputs": [],
   "source": [
    "# list(data.keys())"
   ]
  },
  {
   "cell_type": "code",
   "execution_count": null,
   "id": "ce9423d3-5c1a-45ac-881d-7f7660cedf75",
   "metadata": {},
   "outputs": [],
   "source": []
  },
  {
   "cell_type": "code",
   "execution_count": null,
   "id": "d97bc5b6-c343-4fa7-8fe3-8ab703494805",
   "metadata": {},
   "outputs": [],
   "source": []
  },
  {
   "cell_type": "code",
   "execution_count": null,
   "id": "10997feb-d7b0-4017-83f8-0618e26d237a",
   "metadata": {
    "scrolled": true
   },
   "outputs": [],
   "source": [
    "# def display_dict_structure(data_dict, indent=0, max_items=10):\n",
    "#     indent_str = '  ' * indent  # Indentation for better readability\n",
    "#     for key, value in data_dict.items():\n",
    "#         if isinstance(value, dict):\n",
    "#             print(f\"{indent_str}{key}: (dict) -> {len(value)} keys\")\n",
    "#             if len(value) > max_items:  # If there are too many keys, summarize\n",
    "#                 print(f\"{indent_str}  ... and {len(value) - max_items} more keys\")\n",
    "#                 keys_to_show = list(value.keys())[:max_items]\n",
    "#             else:\n",
    "#                 keys_to_show = value.keys()\n",
    "#             for subkey in keys_to_show:\n",
    "#                 print(f\"{indent_str}  {subkey}:\")\n",
    "#                 display_dict_structure({subkey: value[subkey]}, indent + 2)  # Show fewer items\n",
    "\n",
    "#         elif isinstance(value, list):\n",
    "#             print(f\"{indent_str}{key}: (list) -> {len(value)} items\")\n",
    "#             if len(value) > max_items:\n",
    "#                 print(f\"{indent_str}  Showing first {max_items} items:\")\n",
    "#                 value = value[:max_items]\n",
    "#             for item in value:\n",
    "#                 display_dict_structure({key: item}, indent + 1)\n",
    "\n",
    "#         elif isinstance(value, np.ndarray):\n",
    "#             print(f\"{indent_str}{key}: (numpy array) -> shape: {value.shape}, dtype: {value.dtype}\")\n",
    "\n",
    "#         elif isinstance(value, (str, int, float)):\n",
    "#             print(f\"{indent_str}{key}: ({type(value).__name__}) -> {value}\")\n",
    "\n",
    "#         else:\n",
    "#             print(f\"{indent_str}{key}: ({type(value).__name__}) -> Cannot determine exact details\")\n",
    "\n",
    "# # Usage example\n",
    "# display_dict_structure(school_data, max_items=5)"
   ]
  },
  {
   "cell_type": "code",
   "execution_count": null,
   "id": "e7f21a31-1e08-45bd-a961-95ba62ba9cbe",
   "metadata": {},
   "outputs": [],
   "source": []
  },
  {
   "cell_type": "code",
   "execution_count": null,
   "id": "42cbb6a1-ce62-4487-8260-c1b9b677b1d2",
   "metadata": {},
   "outputs": [],
   "source": []
  }
 ],
 "metadata": {
  "kernelspec": {
   "display_name": "Python 3 (ipykernel)",
   "language": "python",
   "name": "python3"
  },
  "language_info": {
   "codemirror_mode": {
    "name": "ipython",
    "version": 3
   },
   "file_extension": ".py",
   "mimetype": "text/x-python",
   "name": "python",
   "nbconvert_exporter": "python",
   "pygments_lexer": "ipython3",
   "version": "3.12.3"
  }
 },
 "nbformat": 4,
 "nbformat_minor": 5
}
